{
  "cells": [
    {
      "cell_type": "markdown",
      "metadata": {},
      "source": [
        "# Documentação do Notebook: Primeiros Passos em Engenharia de Dados\n",
        " \n",
        "## Objetivo\n",
        "Este notebook demonstra um pipeline básico de engenharia de dados, realizando a leitura, transformação, fusão e exportação de dados de diferentes fontes (JSON e CSV), simulando um cenário de integração de dados empresariais.\n",
        " \n",
        "## Estrutura do Notebook\n",
        "1. **Leitura dos Dados**\n",
        "   - Carrega dados de um arquivo JSON (`dados_empresaA.json`) e de um arquivo CSV (`dados_empresaB.csv`).\n",
        "   - Demonstra diferentes formas de leitura: linha a linha, leitura completa, uso das bibliotecas `json` e `csv`.\n",
        "2. **Exploração dos Dados**\n",
        "   - Exibe exemplos de registros e tipos de dados.\n",
        "   - Mostra como acessar colunas e valores específicos.\n",
        "3. **Padronização das Colunas**\n",
        "   - Cria um mapeamento (`key_mapping`) para padronizar os nomes das colunas entre os dois conjuntos de dados.\n",
        "   - Corrige possíveis problemas de encoding nos nomes das colunas do CSV.\n",
        "4. **Fusão dos Dados**\n",
        "   - Une os dados do JSON e do CSV em uma lista única, padronizando as colunas.\n",
        "   - Garante que todos os registros tenham o mesmo conjunto de colunas.\n",
        "5. **Exportação dos Dados Combinados**\n",
        "   - Salva o resultado da fusão em um novo arquivo CSV (`dados_combinados.csv`) na pasta `data_processed`.\n",
        "6. **Execução de Script Externo**\n",
        "   - Executa o script `fusao_mercados_fev.py` para processamento adicional, se necessário.\n",
        " \n",
        "## Principais Bibliotecas Utilizadas\n",
        "- `json`: Para manipulação de arquivos JSON.\n",
        "- `csv`: Para leitura e escrita de arquivos CSV.\n",
        "- `subprocess`: Para execução de scripts externos.\n",
        " \n",
        "## Observações\n",
        "- O notebook utiliza caminhos relativos para facilitar a portabilidade.\n",
        "- O tratamento de encoding é realizado para evitar problemas com caracteres especiais.\n",
        "- O pipeline pode ser adaptado para outros formatos de dados ou regras de negócio.\n",
        " \n",
        "## Recomendações\n",
        "- Certifique-se de que os arquivos de dados estejam presentes nas pastas corretas.\n",
        "- Verifique se as dependências estão instaladas no ambiente Python utilizado.\n",
        "- O notebook pode ser expandido para incluir validações, visualizações e análises estatísticas."
      ]
    },
    {
      "cell_type": "markdown",
      "metadata": {
        "id": "57xHKWj9oSO1"
      },
      "source": [
        "Lendo os dados"
      ]
    },
    {
      "cell_type": "code",
      "execution_count": 110,
      "metadata": {
        "id": "uqvTcy4AoUWW"
      },
      "outputs": [],
      "source": [
        "path_json = '..\\data_raw\\dados_empresaA.json'"
      ]
    },
    {
      "cell_type": "code",
      "execution_count": 111,
      "metadata": {
        "colab": {
          "base_uri": "https://localhost:8080/"
        },
        "id": "95ySrzkeouIo",
        "outputId": "1e28ccf8-3933-4282-bda8-d54b9faf137d"
      },
      "outputs": [
        {
          "name": "stdout",
          "output_type": "stream",
          "text": [
            "[{\"Nome do Produto\":\"Blush em p\\u00f3\",\"Categoria do Produto\":\"Eletrodom\\u00e9sticos\",\"Pre\\u00e7o do Produto (R$)\":79.41,\"Quantidade em Estoque\":7,\"Filial\":\"Filial 7\"},\n",
            "\n"
          ]
        }
      ],
      "source": [
        "with open(path_json, 'r') as file:\n",
        "    print(file.readline())"
      ]
    },
    {
      "cell_type": "code",
      "execution_count": 112,
      "metadata": {
        "id": "tvjQHYn8U2ob"
      },
      "outputs": [],
      "source": [
        "with open(path_json, 'r') as file:\n",
        "    dados = file.readline()"
      ]
    },
    {
      "cell_type": "code",
      "execution_count": 113,
      "metadata": {
        "colab": {
          "base_uri": "https://localhost:8080/",
          "height": 36
        },
        "id": "4pQinQN6VXkM",
        "outputId": "703c030e-ad8a-4970-f5d1-0c2708d575a7"
      },
      "outputs": [
        {
          "data": {
            "text/plain": [
              "'\"'"
            ]
          },
          "execution_count": 113,
          "metadata": {},
          "output_type": "execute_result"
        }
      ],
      "source": [
        "dados[2]"
      ]
    },
    {
      "cell_type": "code",
      "execution_count": 114,
      "metadata": {
        "id": "hqziyWh4WIvy"
      },
      "outputs": [],
      "source": [
        "import json"
      ]
    },
    {
      "cell_type": "code",
      "execution_count": 115,
      "metadata": {
        "id": "O5BoDwS7WNrv"
      },
      "outputs": [],
      "source": [
        "with open(path_json, 'r') as file:\n",
        "  dados_json = json.load(file)"
      ]
    },
    {
      "cell_type": "code",
      "execution_count": 116,
      "metadata": {
        "id": "6WYf0FWrOKA4"
      },
      "outputs": [
        {
          "data": {
            "text/plain": [
              "CompletedProcess(args=['python', 'scripts/fusao_mercados_fev.py'], returncode=2)"
            ]
          },
          "execution_count": 116,
          "metadata": {},
          "output_type": "execute_result"
        }
      ],
      "source": [
        "import subprocess\n",
        "subprocess.run(['python', 'scripts/fusao_mercados_fev.py'])"
      ]
    },
    {
      "cell_type": "code",
      "execution_count": 117,
      "metadata": {
        "colab": {
          "base_uri": "https://localhost:8080/"
        },
        "id": "NsDOFOesWZ2e",
        "outputId": "0b362108-a413-4fed-deec-49135dce489b"
      },
      "outputs": [
        {
          "data": {
            "text/plain": [
              "{'Nome do Produto': 'Lápis de sobrancelha',\n",
              " 'Categoria do Produto': 'Eletrodomésticos',\n",
              " 'Preço do Produto (R$)': 85.47,\n",
              " 'Quantidade em Estoque': 78,\n",
              " 'Filial': 'Filial 8'}"
            ]
          },
          "execution_count": 117,
          "metadata": {},
          "output_type": "execute_result"
        }
      ],
      "source": [
        "dados_json[0]\n",
        "dados_json[1]"
      ]
    },
    {
      "cell_type": "code",
      "execution_count": 118,
      "metadata": {
        "colab": {
          "base_uri": "https://localhost:8080/"
        },
        "id": "ZX0z8fazWsSe",
        "outputId": "5fc25030-5b55-44a1-b6da-f1e1dfc9177b"
      },
      "outputs": [
        {
          "data": {
            "text/plain": [
              "list"
            ]
          },
          "execution_count": 118,
          "metadata": {},
          "output_type": "execute_result"
        }
      ],
      "source": [
        "type(dados_json)"
      ]
    },
    {
      "cell_type": "code",
      "execution_count": 119,
      "metadata": {
        "id": "NLIJKNGrXHqW"
      },
      "outputs": [],
      "source": [
        "path_csv = '..\\data_raw\\dados_empresaB.csv'"
      ]
    },
    {
      "cell_type": "code",
      "execution_count": 120,
      "metadata": {
        "colab": {
          "base_uri": "https://localhost:8080/"
        },
        "id": "BFWno-rZXcbU",
        "outputId": "43227223-6c21-4c8a-f522-e0561854c8a9"
      },
      "outputs": [
        {
          "name": "stdout",
          "output_type": "stream",
          "text": [
            "Nome do Item,ClassificaÃ§Ã£o do Produto,Valor em Reais (R$),Quantidade em Estoque,Nome da Loja,Data da Venda\n",
            "\n"
          ]
        }
      ],
      "source": [
        "with open(path_csv, 'r') as file:\n",
        "    print(file.readlines()[0])"
      ]
    },
    {
      "cell_type": "code",
      "execution_count": 121,
      "metadata": {
        "id": "zq-abbkYX-6g"
      },
      "outputs": [],
      "source": [
        "with open(path_csv, 'r') as file:\n",
        "    dados_csv = file.readlines()"
      ]
    },
    {
      "cell_type": "code",
      "execution_count": 122,
      "metadata": {
        "colab": {
          "base_uri": "https://localhost:8080/",
          "height": 36
        },
        "id": "Gldop981YIXs",
        "outputId": "ae036e91-5cdb-43bf-9e94-fb0413febfce"
      },
      "outputs": [
        {
          "data": {
            "text/plain": [
              "'Nome do Item,ClassificaÃ§Ã£o do Produto,Valor em Reais (R$),Quantidade em Estoque,Nome da Loja,Data da Venda\\n'"
            ]
          },
          "execution_count": 122,
          "metadata": {},
          "output_type": "execute_result"
        }
      ],
      "source": [
        "dados_csv[0]"
      ]
    },
    {
      "cell_type": "code",
      "execution_count": 123,
      "metadata": {
        "id": "u2IgBtRpYfzl"
      },
      "outputs": [],
      "source": [
        "import csv"
      ]
    },
    {
      "cell_type": "code",
      "execution_count": 124,
      "metadata": {
        "id": "TCt2IS9nYlCe"
      },
      "outputs": [],
      "source": [
        "dados_csv = []\n",
        "with open(path_csv, 'r') as file:\n",
        "  spamreader = csv.reader(file, delimiter=',')\n",
        "  for row in spamreader:\n",
        "    dados_csv.append(row)"
      ]
    },
    {
      "cell_type": "code",
      "execution_count": 125,
      "metadata": {
        "colab": {
          "base_uri": "https://localhost:8080/",
          "height": 36
        },
        "id": "39NSyqHSZh-I",
        "outputId": "9207a8f6-6780-4abb-e9d7-a71e3f5ee8f4"
      },
      "outputs": [
        {
          "data": {
            "text/plain": [
              "'Nome do Item'"
            ]
          },
          "execution_count": 125,
          "metadata": {},
          "output_type": "execute_result"
        }
      ],
      "source": [
        "dados_csv[0][0]"
      ]
    },
    {
      "cell_type": "code",
      "execution_count": 126,
      "metadata": {
        "id": "qgqexo1faamU"
      },
      "outputs": [],
      "source": [
        "dados_csv = []\n",
        "with open(path_csv, 'r') as file:\n",
        "  spamreader = csv.DictReader(file, delimiter=',')\n",
        "  for row in spamreader:\n",
        "    dados_csv.append(row)"
      ]
    },
    {
      "cell_type": "code",
      "execution_count": 127,
      "metadata": {
        "colab": {
          "base_uri": "https://localhost:8080/"
        },
        "id": "wWrRzhn4bFUx",
        "outputId": "be9dc893-2c86-45a5-a217-50132d72963f"
      },
      "outputs": [
        {
          "data": {
            "text/plain": [
              "['Nome do Produto',\n",
              " 'Categoria do Produto',\n",
              " 'Preço do Produto (R$)',\n",
              " 'Quantidade em Estoque',\n",
              " 'Filial']"
            ]
          },
          "execution_count": 127,
          "metadata": {},
          "output_type": "execute_result"
        }
      ],
      "source": [
        "nome_colunas_json = list(dados_json[0].keys())\n",
        "nome_colunas_json"
      ]
    },
    {
      "cell_type": "code",
      "execution_count": 128,
      "metadata": {
        "colab": {
          "base_uri": "https://localhost:8080/"
        },
        "id": "V56g_MlHbh31",
        "outputId": "258244c0-f27b-4cdb-a827-d813cac77c05"
      },
      "outputs": [
        {
          "data": {
            "text/plain": [
              "['Nome do Item',\n",
              " 'ClassificaÃ§Ã£o do Produto',\n",
              " 'Valor em Reais (R$)',\n",
              " 'Quantidade em Estoque',\n",
              " 'Nome da Loja',\n",
              " 'Data da Venda']"
            ]
          },
          "execution_count": 128,
          "metadata": {},
          "output_type": "execute_result"
        }
      ],
      "source": [
        "nome_colunas_csv = list(dados_csv[0].keys())\n",
        "nome_colunas_csv"
      ]
    },
    {
      "cell_type": "code",
      "execution_count": 129,
      "metadata": {
        "colab": {
          "base_uri": "https://localhost:8080/"
        },
        "id": "JyCEfLHSxnWG",
        "outputId": "7df06f6c-ce0b-44a8-8c69-bbc9aa24419c"
      },
      "outputs": [
        {
          "data": {
            "text/plain": [
              "{'Nome do Item': 'Nome do Produto',\n",
              " 'Classificação do Produto': 'Categoria do Produto',\n",
              " 'Valor em Reais (R$)': 'Preço do Produto (R$)',\n",
              " 'Quantidade em Estoque': 'Quantidade em Estoque',\n",
              " 'Nome da Loja': 'Filial',\n",
              " 'Data da Venda': 'Data da Venda'}"
            ]
          },
          "execution_count": 129,
          "metadata": {},
          "output_type": "execute_result"
        }
      ],
      "source": [
        "key_mapping = {'Nome do Item': 'Nome do Produto',\n",
        "                'Classificação do Produto': 'Categoria do Produto',\n",
        "                'Valor em Reais (R$)': 'Preço do Produto (R$)',\n",
        "                'Quantidade em Estoque': 'Quantidade em Estoque',\n",
        "                'Nome da Loja': 'Filial',\n",
        "                'Data da Venda': 'Data da Venda'}\n",
        "key_mapping"
      ]
    },
    {
      "cell_type": "code",
      "execution_count": 130,
      "metadata": {
        "colab": {
          "base_uri": "https://localhost:8080/"
        },
        "id": "tAzL-l4NyHLk",
        "outputId": "75fb347c-2634-4cbc-95d5-5381ca2b2060"
      },
      "outputs": [
        {
          "data": {
            "text/plain": [
              "{'Nome do Produto': 'LÃ¡pis de sobrancelha',\n",
              " 'Categoria do Produto': 'Roupas',\n",
              " 'Preço do Produto (R$)': '55.17',\n",
              " 'Quantidade em Estoque': '62',\n",
              " 'Filial': 'Filial 1',\n",
              " 'Data da Venda': '2023-04-13 18:58:06.794203'}"
            ]
          },
          "execution_count": 130,
          "metadata": {},
          "output_type": "execute_result"
        }
      ],
      "source": [
        "new_dados_csv = []\n",
        "\n",
        "for old_dict in dados_csv:\n",
        "    dict_temp = {}\n",
        "    for old_key, value in old_dict.items():\n",
        "      # Corrige possíveis problemas de encoding nos nomes das colunas\n",
        "      old_key_utf8 = old_key.encode('latin1').decode('utf-8')\n",
        "      if old_key_utf8 in key_mapping:\n",
        "          dict_temp[key_mapping[old_key_utf8]] = value\n",
        "      else:\n",
        "          dict_temp[old_key_utf8] = value\n",
        "    new_dados_csv.append(dict_temp)\n",
        "new_dados_csv[0]"
      ]
    },
    {
      "cell_type": "code",
      "execution_count": 131,
      "metadata": {
        "id": "qbR9bE28z0rv"
      },
      "outputs": [],
      "source": [
        "combined_list = []\n",
        "\n",
        "combined_list.extend(dados_json)\n",
        "combined_list.extend(new_dados_csv)"
      ]
    },
    {
      "cell_type": "code",
      "execution_count": 132,
      "metadata": {
        "colab": {
          "base_uri": "https://localhost:8080/"
        },
        "id": "lJfwIqri0ElW",
        "outputId": "7dcbe085-57bb-4a1c-da36-3cb3d824ca7d"
      },
      "outputs": [
        {
          "data": {
            "text/plain": [
              "{'Nome do Produto': 'Blush em pó',\n",
              " 'Categoria do Produto': 'Eletrodomésticos',\n",
              " 'Preço do Produto (R$)': 79.41,\n",
              " 'Quantidade em Estoque': 7,\n",
              " 'Filial': 'Filial 7'}"
            ]
          },
          "execution_count": 132,
          "metadata": {},
          "output_type": "execute_result"
        }
      ],
      "source": [
        "combined_list[0]"
      ]
    },
    {
      "cell_type": "code",
      "execution_count": 133,
      "metadata": {
        "colab": {
          "base_uri": "https://localhost:8080/"
        },
        "id": "8DbBiAGA1GuJ",
        "outputId": "98c7b62d-5112-4c86-d8e7-bc2814bb1c87"
      },
      "outputs": [
        {
          "data": {
            "text/plain": [
              "['Nome do Produto',\n",
              " 'Categoria do Produto',\n",
              " 'Preço do Produto (R$)',\n",
              " 'Quantidade em Estoque',\n",
              " 'Filial']"
            ]
          },
          "execution_count": 133,
          "metadata": {},
          "output_type": "execute_result"
        }
      ],
      "source": [
        "nomes_colunas = list(combined_list[0].keys())\n",
        "nomes_colunas"
      ]
    },
    {
      "cell_type": "code",
      "execution_count": 134,
      "metadata": {
        "colab": {
          "base_uri": "https://localhost:8080/"
        },
        "id": "FwEQSm1SIYie",
        "outputId": "4dd13db9-9fa7-4221-dadc-b9f67b5628f3"
      },
      "outputs": [
        {
          "data": {
            "text/plain": [
              "['Nome do Produto',\n",
              " 'Categoria do Produto',\n",
              " 'Preço do Produto (R$)',\n",
              " 'Quantidade em Estoque',\n",
              " 'Filial',\n",
              " 'Data da Venda']"
            ]
          },
          "execution_count": 134,
          "metadata": {},
          "output_type": "execute_result"
        }
      ],
      "source": [
        "nomes_colunas = list(combined_list[-1].keys())\n",
        "nomes_colunas"
      ]
    },
    {
      "cell_type": "code",
      "execution_count": 135,
      "metadata": {
        "id": "26k_B0huIeQc"
      },
      "outputs": [],
      "source": [
        "dados_combinados_tabela = [nomes_colunas]\n",
        "\n",
        "for row in combined_list:\n",
        "    linha = []\n",
        "    for coluna in nomes_colunas:\n",
        "        linha.append(row.get(coluna, 'Indisponivel'))\n",
        "    dados_combinados_tabela.append(linha)"
      ]
    },
    {
      "cell_type": "code",
      "execution_count": 136,
      "metadata": {
        "colab": {
          "base_uri": "https://localhost:8080/"
        },
        "id": "n2LOo8rUIhOF",
        "outputId": "f43cc295-5c9f-4fab-ad40-58feb376939d"
      },
      "outputs": [
        {
          "data": {
            "text/plain": [
              "['Sombra de olhos',\n",
              " 'EletrÃ´nicos',\n",
              " '41.73',\n",
              " '5',\n",
              " 'Filial 6',\n",
              " '2022-11-21 18:58:06.794203']"
            ]
          },
          "execution_count": 136,
          "metadata": {},
          "output_type": "execute_result"
        }
      ],
      "source": [
        "dados_combinados_tabela[-1]"
      ]
    },
    {
      "cell_type": "code",
      "execution_count": 137,
      "metadata": {
        "id": "EJeYxGAjKkTV"
      },
      "outputs": [],
      "source": [
        "path_dados_combinados = '..\\data_processed\\dados_combinados.csv'\n",
        "\n",
        "with open(path_dados_combinados, 'w', newline='', encoding='utf-8') as file:\n",
        "    writer = csv.writer(file)\n",
        "    writer.writerows(dados_combinados_tabela)"
      ]
    },
    {
      "cell_type": "code",
      "execution_count": 138,
      "metadata": {
        "id": "494fa9c4"
      },
      "outputs": [
        {
          "data": {
            "text/plain": [
              "CompletedProcess(args=['python', 'scripts/fusao_mercados_fev.py'], returncode=2)"
            ]
          },
          "execution_count": 138,
          "metadata": {},
          "output_type": "execute_result"
        }
      ],
      "source": [
        "import subprocess\n",
        "subprocess.run(['python', 'scripts/fusao_mercados_fev.py'])"
      ]
    },
    {
      "cell_type": "code",
      "execution_count": 139,
      "metadata": {
        "colab": {
          "base_uri": "https://localhost:8080/"
        },
        "id": "0oaTpXwQO8jg",
        "outputId": "de01fa66-a59d-4dab-c448-688ff2c35e74"
      },
      "outputs": [
        {
          "data": {
            "text/plain": [
              "CompletedProcess(args=['python', 'scripts/fusao_mercados_fev.py'], returncode=2)"
            ]
          },
          "execution_count": 139,
          "metadata": {},
          "output_type": "execute_result"
        }
      ],
      "source": [
        "import subprocess\n",
        "subprocess.run(['python', 'scripts/fusao_mercados_fev.py'])"
      ]
    },
    {
      "cell_type": "code",
      "execution_count": 140,
      "metadata": {
        "colab": {
          "base_uri": "https://localhost:8080/"
        },
        "id": "6b4b8b9a",
        "outputId": "7977ff3a-6788-4223-b98b-8d846265578d"
      },
      "outputs": [
        {
          "data": {
            "text/plain": [
              "CompletedProcess(args=['python', 'fusao_mercados_fev.py'], returncode=2)"
            ]
          },
          "execution_count": 140,
          "metadata": {},
          "output_type": "execute_result"
        }
      ],
      "source": [
        "import subprocess\n",
        "subprocess.run(['python', 'fusao_mercados_fev.py'])"
      ]
    }
  ],
  "metadata": {
    "colab": {
      "provenance": []
    },
    "kernelspec": {
      "display_name": "Python 3",
      "name": "python3"
    },
    "language_info": {
      "codemirror_mode": {
        "name": "ipython",
        "version": 3
      },
      "file_extension": ".py",
      "mimetype": "text/x-python",
      "name": "python",
      "nbconvert_exporter": "python",
      "pygments_lexer": "ipython3",
      "version": "3.11.9"
    }
  },
  "nbformat": 4,
  "nbformat_minor": 0
}
